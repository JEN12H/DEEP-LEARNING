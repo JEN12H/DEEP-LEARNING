{
 "cells": [
  {
   "cell_type": "code",
   "execution_count": 53,
   "id": "cfd2be1c-a66c-4aab-ac50-cad0b765406c",
   "metadata": {},
   "outputs": [],
   "source": [
    "import tensorflow as tf"
   ]
  },
  {
   "cell_type": "code",
   "execution_count": 54,
   "id": "a1f2b997-644d-406f-a0fa-51861671a8bf",
   "metadata": {},
   "outputs": [],
   "source": [
    "daily_sales_numbers = [21,22,-108,31,-1,32,34,31]"
   ]
  },
  {
   "cell_type": "code",
   "execution_count": 55,
   "id": "1b47973b-e8c5-412e-ba60-cbdb43ab17fe",
   "metadata": {},
   "outputs": [
    {
     "data": {
      "text/plain": [
       "<_TensorSliceDataset element_spec=TensorSpec(shape=(), dtype=tf.int32, name=None)>"
      ]
     },
     "execution_count": 55,
     "metadata": {},
     "output_type": "execute_result"
    }
   ],
   "source": [
    "tf_dataset = tf.data.Dataset.from_tensor_slices(daily_sales_numbers)\n",
    "tf_dataset"
   ]
  },
  {
   "cell_type": "code",
   "execution_count": 56,
   "id": "3acb70bc-be17-40b1-87c0-a2e09855ded1",
   "metadata": {},
   "outputs": [
    {
     "name": "stdout",
     "output_type": "stream",
     "text": [
      "21\n",
      "22\n",
      "-108\n",
      "31\n",
      "-1\n",
      "32\n",
      "34\n",
      "31\n"
     ]
    }
   ],
   "source": [
    "for i in tf_dataset :\n",
    "    print(i.numpy())"
   ]
  },
  {
   "cell_type": "code",
   "execution_count": 57,
   "id": "005eb0b7-2152-4a86-8f51-c89379ae33d4",
   "metadata": {},
   "outputs": [
    {
     "name": "stdout",
     "output_type": "stream",
     "text": [
      "21\n",
      "22\n",
      "-108\n",
      "31\n",
      "-1\n",
      "32\n",
      "34\n",
      "31\n"
     ]
    }
   ],
   "source": [
    "# ANOTHER WAY TO PRINT\n",
    "for i in tf_dataset.as_numpy_iterator():\n",
    "    print(i)"
   ]
  },
  {
   "cell_type": "code",
   "execution_count": 58,
   "id": "972f717a-b104-4075-b741-8ffbd36b8bc0",
   "metadata": {},
   "outputs": [
    {
     "name": "stdout",
     "output_type": "stream",
     "text": [
      "21\n",
      "22\n",
      "-108\n"
     ]
    }
   ],
   "source": [
    "for i in tf_dataset.take(3):\n",
    "    print(i.numpy())"
   ]
  },
  {
   "cell_type": "code",
   "execution_count": 59,
   "id": "4d738179-0111-478d-b41d-8a6f7f6287fa",
   "metadata": {},
   "outputs": [
    {
     "name": "stdout",
     "output_type": "stream",
     "text": [
      "21\n",
      "22\n",
      "31\n",
      "32\n",
      "34\n",
      "31\n"
     ]
    }
   ],
   "source": [
    "# FILTERING DATA POINTS\n",
    "tf_dataset = tf_dataset.filter(lambda x: x>0)\n",
    "for i in tf_dataset.as_numpy_iterator():\n",
    "    print(i)"
   ]
  },
  {
   "cell_type": "code",
   "execution_count": 60,
   "id": "7712312c-7fe1-4c57-965e-77eee334b233",
   "metadata": {},
   "outputs": [
    {
     "name": "stdout",
     "output_type": "stream",
     "text": [
      "1512\n",
      "1584\n",
      "2232\n",
      "2304\n",
      "2448\n",
      "2232\n"
     ]
    }
   ],
   "source": [
    "tf_dataset = tf_dataset.map(lambda x:x*72)\n",
    "for i in tf_dataset.as_numpy_iterator():\n",
    "    print(i)"
   ]
  },
  {
   "cell_type": "code",
   "execution_count": 61,
   "id": "4589d394-3f9e-4468-9ccf-e1101fd7342b",
   "metadata": {},
   "outputs": [
    {
     "name": "stdout",
     "output_type": "stream",
     "text": [
      "1584\n",
      "2304\n",
      "2448\n",
      "2232\n",
      "2232\n",
      "1512\n"
     ]
    }
   ],
   "source": [
    "tf_dataset = tf_dataset.shuffle(3)\n",
    "for i in tf_dataset.as_numpy_iterator():\n",
    "    print(i)"
   ]
  },
  {
   "cell_type": "code",
   "execution_count": 62,
   "id": "07cfbbcb-0ce9-41c9-8f30-f37a087a3732",
   "metadata": {},
   "outputs": [
    {
     "name": "stdout",
     "output_type": "stream",
     "text": [
      "[1512 2232]\n",
      "[1584 2448]\n",
      "[2304 2232]\n"
     ]
    }
   ],
   "source": [
    "for sales_batch in tf_dataset.batch(2):\n",
    "    print(sales_batch.numpy())"
   ]
  },
  {
   "cell_type": "markdown",
   "id": "56787acb-e595-485a-ac42-bee13a58cde9",
   "metadata": {},
   "source": [
    "# PERFORMING ALL OPERATIONS IN 1 LINE"
   ]
  },
  {
   "cell_type": "code",
   "execution_count": 63,
   "id": "75e2e0bb-ebe4-4859-8e95-815383d54861",
   "metadata": {},
   "outputs": [
    {
     "data": {
      "text/plain": [
       "<_BatchDataset element_spec=TensorSpec(shape=(None,), dtype=tf.int32, name=None)>"
      ]
     },
     "execution_count": 63,
     "metadata": {},
     "output_type": "execute_result"
    }
   ],
   "source": [
    "tf_dataset = tf.data.Dataset.from_tensor_slices(daily_sales_numbers)\n",
    "tf_dataset.filter(lambda x:x>0).map(lambda y:y*72).shuffle(2).batch(2)"
   ]
  },
  {
   "cell_type": "code",
   "execution_count": 64,
   "id": "b4cc449a-8223-4073-a273-2a0443047c2e",
   "metadata": {},
   "outputs": [
    {
     "name": "stdout",
     "output_type": "stream",
     "text": [
      "b'images\\\\cats\\\\cats.jpeg'\n",
      "b'images\\\\cats\\\\cats1.jpeg'\n",
      "b'images\\\\cats\\\\cats10.jpeg'\n"
     ]
    }
   ],
   "source": [
    "images_ds = tf.data.Dataset.list_files('images/*/*',shuffle= False)\n",
    "for files in images_ds.take(3):\n",
    "    print(files.numpy())"
   ]
  },
  {
   "cell_type": "code",
   "execution_count": 65,
   "id": "a2a35370-fdd2-4d32-bdd2-f21eb3b648c4",
   "metadata": {},
   "outputs": [
    {
     "name": "stdout",
     "output_type": "stream",
     "text": [
      "b'images\\\\dogs\\\\dogs.jpeg'\n",
      "b'images\\\\cats\\\\cats8.jpeg'\n",
      "b'images\\\\dogs\\\\dogs2.jpeg'\n"
     ]
    }
   ],
   "source": [
    "images_ds = images_ds.shuffle(200)\n",
    "for file in images_ds.take(3):\n",
    "    print(file.numpy())"
   ]
  },
  {
   "cell_type": "code",
   "execution_count": 66,
   "id": "9484302d-5a37-4dd9-8a20-492b629b8868",
   "metadata": {},
   "outputs": [],
   "source": [
    "class_names = [\"cat\",\"dog\"]\n"
   ]
  },
  {
   "cell_type": "code",
   "execution_count": 67,
   "id": "87c1dec2-a572-4752-aed8-d2ddd2c45203",
   "metadata": {},
   "outputs": [
    {
     "data": {
      "text/plain": [
       "20"
      ]
     },
     "execution_count": 67,
     "metadata": {},
     "output_type": "execute_result"
    }
   ],
   "source": [
    "image_count = len(images_ds)\n",
    "image_count"
   ]
  },
  {
   "cell_type": "code",
   "execution_count": 68,
   "id": "b2d216fc-8dc9-4a13-94bf-9849f06dd83d",
   "metadata": {},
   "outputs": [],
   "source": [
    "train_size = int(image_count*0.8)\n",
    "train_ds = images_ds.take(train_size)\n",
    "test_ds = images_ds.skip(train_size)"
   ]
  },
  {
   "cell_type": "code",
   "execution_count": 69,
   "id": "7b58ab92-299c-4654-84de-79b1fac26967",
   "metadata": {},
   "outputs": [
    {
     "data": {
      "text/plain": [
       "'cats'"
      ]
     },
     "execution_count": 69,
     "metadata": {},
     "output_type": "execute_result"
    }
   ],
   "source": [
    "# RETRIEVING LABEL FROM IMAGE PATH \n",
    "s = 'images\\\\cats\\\\cats10.jpeg'\n",
    "s.split(\"\\\\\")[1]"
   ]
  },
  {
   "cell_type": "code",
   "execution_count": 70,
   "id": "e643a1c8-e22f-4b2c-b1a3-1fa0366ada33",
   "metadata": {},
   "outputs": [],
   "source": [
    "def get_label(file_path):\n",
    "    import os\n",
    "    return tf.strings.split(file_path,os.path.sep)[1]"
   ]
  },
  {
   "cell_type": "code",
   "execution_count": 71,
   "id": "c40da3a7-c5b7-4706-bae6-d99b8d70f752",
   "metadata": {},
   "outputs": [],
   "source": [
    "def process_image(file_path):\n",
    "    label = get_label(file_path)\n",
    "    img = tf.io.read_file(file_path)\n",
    "    img = tf.image.decode_jpeg(img)\n",
    "    img = tf.image.resize(img,[128,128])\n",
    "    return img,label"
   ]
  },
  {
   "cell_type": "code",
   "execution_count": 72,
   "id": "2633d34d-3b90-4ead-bdd7-1912b8cca2a9",
   "metadata": {},
   "outputs": [
    {
     "name": "stdout",
     "output_type": "stream",
     "text": [
      "b'images\\\\dogs\\\\dogs9.jpeg'\n",
      "b'images\\\\cats\\\\cats1.jpeg'\n",
      "b'images\\\\dogs\\\\dogs1.jpeg'\n",
      "b'images\\\\dogs\\\\dogs10.jpeg'\n"
     ]
    }
   ],
   "source": [
    "for t in train_ds.take(4):\n",
    "    print(t.numpy())"
   ]
  },
  {
   "cell_type": "code",
   "execution_count": 73,
   "id": "852f011e-45b2-4236-ab8c-3ebdec5aef32",
   "metadata": {},
   "outputs": [
    {
     "name": "stdout",
     "output_type": "stream",
     "text": [
      "Image: tf.Tensor(\n",
      "[[[26.614563  45.614563  52.614563 ]\n",
      "  [23.905197  42.905197  49.905197 ]\n",
      "  [19.913712  38.91371   45.91371  ]\n",
      "  ...\n",
      "  [13.574219  30.574219  38.57422  ]\n",
      "  [16.285156  33.285156  41.285156 ]\n",
      "  [18.69368   35.69368   43.69368  ]]\n",
      "\n",
      " [[34.040054  53.040054  60.040054 ]\n",
      "  [39.370163  58.370163  65.37016  ]\n",
      "  [44.741135  63.741135  70.741135 ]\n",
      "  ...\n",
      "  [13.832031  30.832031  38.83203  ]\n",
      "  [12.852493  29.852493  37.852493 ]\n",
      "  [11.819321  28.81932   36.81932  ]]\n",
      "\n",
      " [[33.21129   53.21129   60.21129  ]\n",
      "  [30.057846  50.057846  57.057846 ]\n",
      "  [29.286911  49.28691   56.28691  ]\n",
      "  ...\n",
      "  [ 1.6540985 18.654099  26.654099 ]\n",
      "  [ 1.4698029 18.469803  26.469803 ]\n",
      "  [ 2.0706635 19.070663  27.070663 ]]\n",
      "\n",
      " ...\n",
      "\n",
      " [[ 6.3473053 25.347305  29.347305 ]\n",
      "  [ 7.03125   26.03125   30.03125  ]\n",
      "  [ 7.8472595 26.976562  31.060349 ]\n",
      "  ...\n",
      "  [25.359604  59.230698  69.10179  ]\n",
      "  [16.55754   50.428635  60.29973  ]\n",
      "  [11.000702  43.20027   53.85652  ]]\n",
      "\n",
      " [[ 3.4092255 22.409225  26.409225 ]\n",
      "  [ 3.9923706 22.99237   27.349884 ]\n",
      "  [ 5.239334  24.280502  28.921875 ]\n",
      "  ...\n",
      "  [24.957031  54.125     64.40234  ]\n",
      "  [23.527344  52.695312  62.972656 ]\n",
      "  [23.885727  51.265625  62.328125 ]]\n",
      "\n",
      " [[ 2.4296875 21.429688  25.429688 ]\n",
      "  [ 6.578125  25.578125  30.867188 ]\n",
      "  [11.074219  30.222656  36.148438 ]\n",
      "  ...\n",
      "  [32.796875  56.796875  68.796875 ]\n",
      "  [31.941406  55.941406  67.94141  ]\n",
      "  [31.63118   54.060867  66.84602  ]]], shape=(128, 128, 3), dtype=float32)\n",
      "Label: tf.Tensor(b'dogs', shape=(), dtype=string)\n",
      "Image: tf.Tensor(\n",
      "[[[ 41.126114   32.126114   27.126114 ]\n",
      "  [ 41.76619    32.76619    27.76619  ]\n",
      "  [ 42.86943    33.86943    28.86943  ]\n",
      "  ...\n",
      "  [208.        196.        174.       ]\n",
      "  [208.        196.        174.       ]\n",
      "  [209.30078   195.13281   174.       ]]\n",
      "\n",
      " [[ 41.856033   32.856033   27.856033 ]\n",
      "  [ 42.66797    33.66797    28.667969 ]\n",
      "  [ 43.55577    34.55577    29.55577  ]\n",
      "  ...\n",
      "  [208.        196.        174.       ]\n",
      "  [208.        196.        174.       ]\n",
      "  [209.30078   195.13281   174.       ]]\n",
      "\n",
      " [[ 43.11328    34.11328    29.113281 ]\n",
      "  [ 43.8125     34.8125     29.8125   ]\n",
      "  [ 44.945312   35.945312   30.945312 ]\n",
      "  ...\n",
      "  [208.        196.        174.       ]\n",
      "  [208.        196.        174.       ]\n",
      "  [209.30078   195.13281   174.       ]]\n",
      "\n",
      " ...\n",
      "\n",
      " [[  9.566406   15.566406   15.566406 ]\n",
      "  [  9.3984375  17.398438   20.398438 ]\n",
      "  [ 11.832031   18.832031   26.832031 ]\n",
      "  ...\n",
      "  [148.11328   136.11328   120.11328  ]\n",
      "  [148.11328   136.11328   120.11328  ]\n",
      "  [148.54688   136.54688   120.546875 ]]\n",
      "\n",
      " [[  9.566406   15.566406   15.566406 ]\n",
      "  [  9.3984375  17.398438   20.398438 ]\n",
      "  [ 11.832031   18.832031   26.832031 ]\n",
      "  ...\n",
      "  [146.66797   134.66797   118.66797  ]\n",
      "  [146.66797   134.66797   118.66797  ]\n",
      "  [147.10156   135.10156   119.10156  ]]\n",
      "\n",
      " [[  9.669647   15.669647   15.669647 ]\n",
      "  [  9.556335   17.556335   20.556335 ]\n",
      "  [  9.369431   16.36943    24.36943  ]\n",
      "  ...\n",
      "  [145.22266   133.22266   117.22266  ]\n",
      "  [145.22266   133.22266   117.22266  ]\n",
      "  [145.3192    133.3192    117.3192   ]]], shape=(128, 128, 3), dtype=float32)\n",
      "Label: tf.Tensor(b'cats', shape=(), dtype=string)\n",
      "Image: tf.Tensor(\n",
      "[[[217.       229.       245.      ]\n",
      "  [217.15526  229.15526  245.15526 ]\n",
      "  [218.       230.       246.      ]\n",
      "  ...\n",
      "  [146.       100.        40.972305]\n",
      "  [143.33594   97.890625  35.923798]\n",
      "  [134.9375    90.9375    25.9375  ]]\n",
      "\n",
      " [[217.       229.       245.      ]\n",
      "  [217.72266  229.72266  245.72266 ]\n",
      "  [218.56145  230.56145  246.56145 ]\n",
      "  ...\n",
      "  [146.56145  100.56145   41.43254 ]\n",
      "  [143.98047   98.53516   37.703125]\n",
      "  [136.09276   92.09276   28.38182 ]]\n",
      "\n",
      " [[217.60582  229.60582  245.60582 ]\n",
      "  [218.05363  230.05363  246.05363 ]\n",
      "  [219.06465  231.06465  247.06465 ]\n",
      "  ...\n",
      "  [147.05508  101.07422   41.935745]\n",
      "  [144.63387   99.29582   38.302887]\n",
      "  [136.79688   92.796875  29.796875]]\n",
      "\n",
      " ...\n",
      "\n",
      " [[224.       149.        56.      ]\n",
      "  [225.72266  150.72266   57.722656]\n",
      "  [226.8711   151.8711    58.871094]\n",
      "  ...\n",
      "  [221.61934  146.61934   55.61934 ]\n",
      "  [220.55469  147.55469   55.      ]\n",
      "  [218.55469  148.55469   53.554688]]\n",
      "\n",
      " [[219.51172  144.51172   51.51172 ]\n",
      "  [221.23438  146.23438   53.234375]\n",
      "  [222.4659   147.4659    54.465897]\n",
      "  ...\n",
      "  [224.41797  149.41797   58.41797 ]\n",
      "  [224.07143  151.07143   58.51674 ]\n",
      "  [220.57812  150.57812   55.578125]]\n",
      "\n",
      " [[211.85938  136.85938   43.859375]\n",
      "  [213.58203  138.58203   45.58203 ]\n",
      "  [214.83168  139.83168   46.83168 ]\n",
      "  ...\n",
      "  [223.1289   148.1289    55.558594]\n",
      "  [222.23735  149.23735   55.547867]\n",
      "  [215.64453  145.64453   50.64453 ]]], shape=(128, 128, 3), dtype=float32)\n",
      "Label: tf.Tensor(b'cats', shape=(), dtype=string)\n"
     ]
    }
   ],
   "source": [
    "train_ds = train_ds.map(process_image)\n",
    "for img, label in train_ds.take(3):\n",
    "    print(\"Image:\",img)\n",
    "    print(\"Label:\",label)"
   ]
  },
  {
   "cell_type": "code",
   "execution_count": 74,
   "id": "85c9866c-ce16-4744-ba19-6a49058fb41c",
   "metadata": {},
   "outputs": [],
   "source": [
    "def scale(image , label ):\n",
    "    return image/255 ,label"
   ]
  },
  {
   "cell_type": "code",
   "execution_count": 75,
   "id": "d970f4c0-53bc-4e75-a0ac-57c09e54d449",
   "metadata": {},
   "outputs": [
    {
     "name": "stdout",
     "output_type": "stream",
     "text": [
      "*****IMAGE: [0.12989323 0.259305   0.13773637]\n",
      "*****Label: b'cats'\n",
      "*****IMAGE: [0.09019608 0.03529412 0.        ]\n",
      "*****Label: b'cats'\n",
      "*****IMAGE: [1.         1.         0.99215686]\n",
      "*****Label: b'dogs'\n",
      "*****IMAGE: [0.86253065 0.8546875  0.90791553]\n",
      "*****Label: b'cats'\n",
      "*****IMAGE: [0.16127887 0.12598476 0.10637692]\n",
      "*****Label: b'cats'\n"
     ]
    }
   ],
   "source": [
    "train_ds = train_ds.map(scale)\n",
    "for image , label in train_ds.take(5):\n",
    "    print(\"*****IMAGE:\",image.numpy()[0][0])\n",
    "    print(\"*****Label:\",label.numpy())"
   ]
  },
  {
   "cell_type": "code",
   "execution_count": null,
   "id": "cfcf5e2d-6d41-4b3b-8da3-07a84c39b9b9",
   "metadata": {},
   "outputs": [],
   "source": []
  }
 ],
 "metadata": {
  "kernelspec": {
   "display_name": "Python 3 (ipykernel)",
   "language": "python",
   "name": "python3"
  },
  "language_info": {
   "codemirror_mode": {
    "name": "ipython",
    "version": 3
   },
   "file_extension": ".py",
   "mimetype": "text/x-python",
   "name": "python",
   "nbconvert_exporter": "python",
   "pygments_lexer": "ipython3",
   "version": "3.11.7"
  }
 },
 "nbformat": 4,
 "nbformat_minor": 5
}
