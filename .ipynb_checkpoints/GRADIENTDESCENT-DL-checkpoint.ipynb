{
 "cells": [
  {
   "cell_type": "code",
   "execution_count": null,
   "id": "cc28054e-10f1-4aec-928c-ba7edad64aa5",
   "metadata": {},
   "outputs": [],
   "source": [
    "import numpy as np\n",
    "import tensorflow as tf\n",
    "from tensorflow import keras\n",
    "import pandas as pd\n",
    "import matplotlib.pyplot as plt\n",
    "%matplotlib inline\n",
    "from keras.callbacks import ModelCheckpoint, EarlyStopping"
   ]
  },
  {
   "cell_type": "code",
   "execution_count": null,
   "id": "2e82588d-b905-409e-b370-1446b49af4e7",
   "metadata": {},
   "outputs": [],
   "source": [
    "df = pd.read_csv(\"insurancedata.csv\")\n",
    "df.head()"
   ]
  },
  {
   "cell_type": "code",
   "execution_count": null,
   "id": "356ceee5-6550-429f-acd4-34bf597d6a02",
   "metadata": {},
   "outputs": [],
   "source": [
    "from sklearn.model_selection import train_test_split\n",
    "X_train,X_test,y_train,y_test = train_test_split(df[['age','affordibility']],df.bought_insurance,test_size = 0.2,random_state = 25)"
   ]
  },
  {
   "cell_type": "code",
   "execution_count": null,
   "id": "0907be00-2813-4db2-8a81-31904df1c173",
   "metadata": {},
   "outputs": [],
   "source": [
    "len(X_train)"
   ]
  },
  {
   "cell_type": "code",
   "execution_count": null,
   "id": "e3761756-1e6d-46ff-aed5-550c29cc2c26",
   "metadata": {},
   "outputs": [],
   "source": [
    "X_train_scaled = X_train.copy()\n",
    "X_train_scaled['age'] = X_train_scaled['age'] /100\n",
    "X_test_scaled = X_test.copy()\n",
    "X_test_scaled['age'] = X_test_scaled['age'] /100"
   ]
  },
  {
   "cell_type": "code",
   "execution_count": null,
   "id": "370c05fb-be9b-424e-a550-fb1991266dd9",
   "metadata": {},
   "outputs": [],
   "source": [
    "X_train_scaled"
   ]
  },
  {
   "cell_type": "code",
   "execution_count": null,
   "id": "79aefb18-c032-432b-ab8e-f5c184cef26d",
   "metadata": {},
   "outputs": [],
   "source": [
    "# Building neural network\n",
    "model = keras.Sequential([\n",
    "    keras.layers.Dense(1,input_shape=(2,),activation='sigmoid',kernel_initializer='ones',bias_initializer='zeros')\n",
    "])\n",
    "model.compile(optimizer ='adam',\n",
    "              loss = 'binary_crossentropy',\n",
    "              metrics=['accuracy'])\n",
    "# EARLY STOPPING\n",
    "es = EarlyStopping(\n",
    "    monitor='val_loss',\n",
    "    patience=200,\n",
    "    verbose = 1,\n",
    "    mode=min\n",
    ")\n",
    "# FIT THE MODEL\n",
    "\n",
    "history = model.fit(X_train_scaled,y_train,epochs=5000,callbacks=[es])"
   ]
  },
  {
   "cell_type": "code",
   "execution_count": null,
   "id": "9ad42c95-3966-400f-9577-2fd74af7bee7",
   "metadata": {},
   "outputs": [],
   "source": [
    "model.evaluate(X_test_scaled,y_test)"
   ]
  },
  {
   "cell_type": "code",
   "execution_count": null,
   "id": "cf7c4e17-2643-4871-b3ff-851f3d6b70f5",
   "metadata": {},
   "outputs": [],
   "source": [
    "coef , intercept = model.get_weights()\n",
    "coef , intercept"
   ]
  },
  {
   "cell_type": "code",
   "execution_count": null,
   "id": "d46122c7-6733-4c16-b842-c3a8e682cf95",
   "metadata": {},
   "outputs": [],
   "source": [
    "model.save(\"model.h5\")"
   ]
  },
  {
   "cell_type": "code",
   "execution_count": null,
   "id": "8143e3b3-2452-4071-a20d-77e98999f4f3",
   "metadata": {},
   "outputs": [],
   "source": [
    "# RAW METHOD WITHOUT TENSORFLOW\n",
    "def sigmoid(x):\n",
    "    import math\n",
    "    return (1/ 1 + math.exp(-x))\n",
    "sigmoid(18)"
   ]
  },
  {
   "cell_type": "code",
   "execution_count": null,
   "id": "8315b77b-8319-4f83-a460-b2acf2245273",
   "metadata": {},
   "outputs": [],
   "source": [
    "def prediction_function(age, affordibility):\n",
    "    weighted_sum = coef[0]*age + coef[1]*affordibility + intercept\n",
    "    return sigmoid(weighted_sum)"
   ]
  },
  {
   "cell_type": "code",
   "execution_count": null,
   "id": "13adb341-91cd-4f50-b7f8-e1adf17e33a6",
   "metadata": {},
   "outputs": [],
   "source": [
    "prediction_function(.47,1)"
   ]
  },
  {
   "cell_type": "code",
   "execution_count": null,
   "id": "68e3c150-c3ac-4f64-acb6-6cbb112f6221",
   "metadata": {},
   "outputs": [],
   "source": [
    "def log_loss(y_true,y_predicted):\n",
    "    epsilon = 1e-15\n",
    "    y_predicted_new = [max(i,epsilon) for i in y_predicted]\n",
    "    y_predicted_new = [min(i,1-epsilon) for i in y_predicted_new]\n",
    "    y_predicted_new = np.array(y_predicted_new)\n",
    "    return -np.mean(y_true*np.log(y_predicted_new)*(1-y_true)*np.log(1-y_predicted_new))"
   ]
  },
  {
   "cell_type": "code",
   "execution_count": null,
   "id": "c14f7d15-a63e-4d2b-9468-3fb986437a36",
   "metadata": {},
   "outputs": [],
   "source": [
    "def sigmoid_numpy(x):\n",
    "    return (1/1+np.exp(-x))\n",
    "sigmoid_numpy(np.array([12,0,1]))"
   ]
  },
  {
   "cell_type": "code",
   "execution_count": null,
   "id": "06caa34f-eab8-4f78-94c7-ca8f446ca063",
   "metadata": {},
   "outputs": [],
   "source": [
    "def gradient_descent( age, affordibility , y_true , epochs, loss_threshold):\n",
    "    # w1 , w2 ,bias \n",
    "    w1 = w2 = 1\n",
    "    bias = 0\n",
    "    learning_rate = 0.5\n",
    "    n = len(age)\n",
    "    for i in range(epochs):\n",
    "        weighted_sum = w1*age + w2*affordibility+bias\n",
    "        y_predicted = sigmoid_numpy(weighted_sum)\n",
    "        loss = log_loss(y_true , y_predicted)\n",
    "        w1d = (1/n)*np.dot(np.transpose(age),(y_predicted-y_true))\n",
    "        w2d = (1/n)*np.dot(np.transpose(affordibility),(y_predicted-y_true))\n",
    "        bias_d = np.mean(y_predicted-y_true)\n",
    "        w1 = w1 - learning_rate*w1d\n",
    "        w2 = w2 - learning_rate*w2d\n",
    "        bias = bias - learning_rate * bias_d\n",
    "        print(f'epoch:{i}, w1:{w1},w2:{w2},bias:{bias},loss:{loss}')\n",
    "        return w1 , w2 , bias"
   ]
  },
  {
   "cell_type": "code",
   "execution_count": null,
   "id": "a78b3978-6d80-4dfd-86f1-99194c40fe41",
   "metadata": {},
   "outputs": [],
   "source": [
    "gradient_descent(X_train_scaled['age'],X_train_scaled['affordibility'],y_train,1000,0.4631)"
   ]
  },
  {
   "cell_type": "code",
   "execution_count": null,
   "id": "b663c504-f055-41eb-ad72-67dd897471a2",
   "metadata": {},
   "outputs": [],
   "source": [
    "coef,intercept"
   ]
  },
  {
   "cell_type": "code",
   "execution_count": null,
   "id": "a6b01196-d114-4742-a3f5-afef6da70d74",
   "metadata": {},
   "outputs": [],
   "source": [
    "model.save(\"model.keras\")"
   ]
  },
  {
   "cell_type": "code",
   "execution_count": null,
   "id": "ae94fdd5-ab8b-4815-8e49-19ba470cd55a",
   "metadata": {},
   "outputs": [],
   "source": [
    "model.export('model')"
   ]
  },
  {
   "cell_type": "code",
   "execution_count": null,
   "id": "e0ae3c51-d140-4a2d-9910-0d33e31f1619",
   "metadata": {},
   "outputs": [],
   "source": [
    "class myNN:\n",
    "    def __init__(self):\n",
    "        self.w1 = 1\n",
    "        self.w2 = 1\n",
    "        self.bias = 0\n",
    "    def fit(self,X,y,epochs,loss_threshold):\n",
    "        self.w1,self.w2,self.bias = self.gradient_descent(X['age'],X['affordibility'],y,epochs , loss_threshold)\n",
    "    def gradient_descent( age, affordibility , y_true , epochs, loss_threshold):\n",
    "    # w1 , w2 ,bias \n",
    "        w1 = w2 = 1\n",
    "        bias = 0\n",
    "        learning_rate = 0.5\n",
    "        n = len(age)\n",
    "        for i in range(epochs):\n",
    "             weighted_sum = w1*age + w2*affordibility+bias\n",
    "             y_predicted = sigmoid_numpy(weighted_sum)\n",
    "             loss = log_loss(y_true , y_predicted)\n",
    "             w1d = (1/n)*np.dot(np.transpose(age),(y_predicted-y_true))\n",
    "             w2d = (1/n)*np.dot(np.transpose(affordibility),(y_predicted-y_true))\n",
    "             bias_d = np.mean(y_predicted-y_true)\n",
    "             w1 = w1 - learning_rate*w1d\n",
    "             w2 = w2 - learning_rate*w2d\n",
    "             bias = bias - learning_rate * bias_d\n",
    "             print(f'epoch:{i}, w1:{w1},w2:{w2},bias:{bias},loss:{loss}')\n",
    "      \n",
    "         if loss<= loss_threshold\n",
    "             break\n",
    "    return w1,w2, bias\n",
    "    \n",
    "        "
   ]
  },
  {
   "cell_type": "code",
   "execution_count": null,
   "id": "6ffbe7d1-1d03-4975-ac0e-e7640eddc60a",
   "metadata": {},
   "outputs": [],
   "source": [
    "custommodel = myNN()\n",
    "custommodel.fit(X_train_scaled,y_train,epochs = 10,loss_threshold = 0.4631)"
   ]
  },
  {
   "cell_type": "code",
   "execution_count": null,
   "id": "d57976f5-c260-41c9-a048-25291e130bf3",
   "metadata": {},
   "outputs": [],
   "source": []
  }
 ],
 "metadata": {
  "kernelspec": {
   "display_name": "Python 3 (ipykernel)",
   "language": "python",
   "name": "python3"
  },
  "language_info": {
   "codemirror_mode": {
    "name": "ipython",
    "version": 3
   },
   "file_extension": ".py",
   "mimetype": "text/x-python",
   "name": "python",
   "nbconvert_exporter": "python",
   "pygments_lexer": "ipython3",
   "version": "3.11.7"
  }
 },
 "nbformat": 4,
 "nbformat_minor": 5
}
